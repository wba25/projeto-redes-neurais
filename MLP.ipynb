{
 "cells": [
  {
   "cell_type": "code",
   "execution_count": 2,
   "metadata": {},
   "outputs": [],
   "source": [
    "import numpy as np\n",
    "import scipy as sp\n",
    "import pandas as pd\n",
    "\n",
    "from sklearn.model_selection import KFold\n",
    "from sklearn.preprocessing import StandardScaler\n",
    "from sklearn.model_selection import train_test_split\n",
    "from sklearn.metrics import confusion_matrix\n",
    "from sklearn.metrics import accuracy_score, recall_score, precision_score, f1_score\n",
    "from sklearn.metrics import roc_auc_score, average_precision_score, roc_curve\n",
    "\n",
    "import matplotlib\n",
    "matplotlib.use('nbagg')\n",
    "import matplotlib.pyplot as plt\n",
    "\n",
    "import seaborn as sns"
   ]
  },
  {
   "cell_type": "code",
   "execution_count": 3,
   "metadata": {},
   "outputs": [],
   "source": [
    "from sklearn.neural_network import MLPClassifier"
   ]
  },
  {
   "cell_type": "code",
   "execution_count": 4,
   "metadata": {},
   "outputs": [],
   "source": [
    "data_set = pd.read_csv(\"data/trn.csv\", sep=',', header=0, low_memory=False)"
   ]
  },
  {
   "cell_type": "code",
   "execution_count": 5,
   "metadata": {},
   "outputs": [],
   "source": [
    "#data_set = pd.concat([data_set[data_set.y == 1].iloc[0:20000],data_set[data_set.y == 0].iloc[0:20000]])"
   ]
  },
  {
   "cell_type": "code",
   "execution_count": 6,
   "metadata": {},
   "outputs": [],
   "source": [
    "data_set = data_set.drop('INDEX', 1)\n",
    "data_set = data_set.drop('Unnamed: 0', 1)\n",
    "\n",
    "# encontra as variavies categoricas\n",
    "for col in data_set.columns:\n",
    "    if ((data_set[col].quantile() == 1.0) | (data_set[col].quantile() == 0.0)):\n",
    "        data_set[col] = data_set[col].astype('category')"
   ]
  },
  {
   "cell_type": "code",
   "execution_count": 7,
   "metadata": {},
   "outputs": [],
   "source": [
    "from sklearn.model_selection import train_test_split"
   ]
  },
  {
   "cell_type": "code",
   "execution_count": 8,
   "metadata": {},
   "outputs": [],
   "source": [
    "correlacoes = data_set.corr()['y']\n",
    "correlacoes = correlacoes.drop(['y'])"
   ]
  },
  {
   "cell_type": "code",
   "execution_count": 9,
   "metadata": {},
   "outputs": [],
   "source": [
    "corrr = correlacoes.apply(lambda x: (x*x))\n",
    "corrr = corrr.to_frame()\n",
    "todel = []\n",
    "i = 0\n",
    "\n",
    "for i in range(0,corrr.shape[0]):\n",
    "    index = corrr.index[i]\n",
    "    if corrr.iloc[i][0] < corrr.mean()[0]:\n",
    "        todel.append(index)"
   ]
  },
  {
   "cell_type": "code",
   "execution_count": 10,
   "metadata": {},
   "outputs": [],
   "source": [
    "#dt2 = data_set.drop(columns=todel)\n",
    "dt2 = data_set"
   ]
  },
  {
   "cell_type": "code",
   "execution_count": 11,
   "metadata": {},
   "outputs": [],
   "source": [
    "X = dt2.loc[:, dt2.columns !='y']\n",
    "y = dt2.iloc[:, dt2.columns == 'y']"
   ]
  },
  {
   "cell_type": "code",
   "execution_count": 12,
   "metadata": {},
   "outputs": [],
   "source": [
    "X_train, X_test, y_train, y_test = train_test_split(X, y, test_size=1/4, random_state=42, stratify=y)\n",
    "\n",
    "X_train, X_val, y_train, y_val = train_test_split(X_train, y_train, test_size=1/3, random_state=42, stratify=y_train)"
   ]
  },
  {
   "cell_type": "code",
   "execution_count": 50,
   "metadata": {},
   "outputs": [],
   "source": [
    "from sklearn.neural_network import MLPClassifier"
   ]
  },
  {
   "cell_type": "code",
   "execution_count": 51,
   "metadata": {},
   "outputs": [],
   "source": [
    "from keras.models import Sequential\n",
    "from keras.layers import Dense\n",
    "from keras.callbacks import EarlyStopping"
   ]
  },
  {
   "cell_type": "code",
   "execution_count": 52,
   "metadata": {},
   "outputs": [
    {
     "name": "stdout",
     "output_type": "stream",
     "text": [
      "Train on 134098 samples, validate on 67049 samples\n",
      "Epoch 1/10000\n",
      "134098/134098 [==============================] - 27s 199us/step - loss: 0.2318 - val_loss: 0.2262\n",
      "Epoch 2/10000\n",
      "134098/134098 [==============================] - 18s 134us/step - loss: 0.2255 - val_loss: 0.2239\n",
      "Epoch 3/10000\n",
      "134098/134098 [==============================] - 18s 134us/step - loss: 0.2241 - val_loss: 0.2234\n",
      "Epoch 4/10000\n",
      "134098/134098 [==============================] - 18s 131us/step - loss: 0.2233 - val_loss: 0.2231\n",
      "Epoch 5/10000\n",
      "134098/134098 [==============================] - 19s 139us/step - loss: 0.2229 - val_loss: 0.2225\n",
      "Epoch 6/10000\n",
      "134098/134098 [==============================] - 18s 138us/step - loss: 0.2225 - val_loss: 0.2228\n",
      "Epoch 7/10000\n",
      "134098/134098 [==============================] - 19s 138us/step - loss: 0.2222 - val_loss: 0.2258\n",
      "Epoch 8/10000\n",
      "134098/134098 [==============================] - 18s 135us/step - loss: 0.2220 - val_loss: 0.2264\n",
      "Epoch 9/10000\n",
      "134098/134098 [==============================] - 20s 148us/step - loss: 0.2217 - val_loss: 0.2225\n",
      "Epoch 10/10000\n",
      "134098/134098 [==============================] - 19s 144us/step - loss: 0.2215 - val_loss: 0.2220\n",
      "Epoch 11/10000\n",
      "134098/134098 [==============================] - 19s 141us/step - loss: 0.2213 - val_loss: 0.2278\n",
      "Epoch 12/10000\n",
      "134098/134098 [==============================] - 18s 136us/step - loss: 0.2212 - val_loss: 0.2239\n",
      "Epoch 13/10000\n",
      "134098/134098 [==============================] - 19s 139us/step - loss: 0.2212 - val_loss: 0.2217\n",
      "Epoch 14/10000\n",
      "134098/134098 [==============================] - 19s 138us/step - loss: 0.2209 - val_loss: 0.2216\n",
      "Epoch 15/10000\n",
      "134098/134098 [==============================] - 19s 140us/step - loss: 0.2209 - val_loss: 0.2236\n",
      "Epoch 16/10000\n",
      "134098/134098 [==============================] - 18s 136us/step - loss: 0.2208 - val_loss: 0.2221\n",
      "Epoch 17/10000\n",
      "134098/134098 [==============================] - 19s 139us/step - loss: 0.2208 - val_loss: 0.2217\n",
      "Epoch 18/10000\n",
      "134098/134098 [==============================] - 18s 137us/step - loss: 0.2207 - val_loss: 0.2220\n",
      "Epoch 19/10000\n",
      "134098/134098 [==============================] - 19s 139us/step - loss: 0.2206 - val_loss: 0.2218\n",
      "Epoch 20/10000\n",
      "134098/134098 [==============================] - 18s 135us/step - loss: 0.2205 - val_loss: 0.2220\n",
      "Epoch 21/10000\n",
      "134098/134098 [==============================] - 19s 140us/step - loss: 0.2205 - val_loss: 0.2221\n",
      "Epoch 22/10000\n",
      "134098/134098 [==============================] - 19s 139us/step - loss: 0.2204 - val_loss: 0.2221\n",
      "Epoch 23/10000\n",
      "134098/134098 [==============================] - 19s 138us/step - loss: 0.2203 - val_loss: 0.2220\n",
      "Epoch 24/10000\n",
      "134098/134098 [==============================] - 18s 137us/step - loss: 0.2203 - val_loss: 0.2247\n",
      "Epoch 25/10000\n",
      "134098/134098 [==============================] - 19s 141us/step - loss: 0.2202 - val_loss: 0.2221\n",
      "Epoch 26/10000\n",
      "134098/134098 [==============================] - 18s 137us/step - loss: 0.2201 - val_loss: 0.2219\n",
      "Epoch 27/10000\n",
      "134098/134098 [==============================] - 19s 139us/step - loss: 0.2200 - val_loss: 0.2228\n",
      "Epoch 28/10000\n",
      "134098/134098 [==============================] - 19s 142us/step - loss: 0.2199 - val_loss: 0.2218\n",
      "Epoch 29/10000\n",
      "134098/134098 [==============================] - 19s 138us/step - loss: 0.2199 - val_loss: 0.2221\n",
      "Epoch 30/10000\n",
      "134098/134098 [==============================] - 18s 136us/step - loss: 0.2198 - val_loss: 0.2220\n",
      "Epoch 31/10000\n",
      "134098/134098 [==============================] - 19s 142us/step - loss: 0.2197 - val_loss: 0.2225\n",
      "Epoch 32/10000\n",
      "134098/134098 [==============================] - 18s 136us/step - loss: 0.2197 - val_loss: 0.2221\n",
      "Epoch 33/10000\n",
      "134098/134098 [==============================] - 18s 138us/step - loss: 0.2196 - val_loss: 0.2225\n",
      "Epoch 34/10000\n",
      "134098/134098 [==============================] - 18s 136us/step - loss: 0.2197 - val_loss: 0.2219\n",
      "Epoch 35/10000\n",
      "134098/134098 [==============================] - 19s 138us/step - loss: 0.2195 - val_loss: 0.2227\n",
      "Epoch 36/10000\n",
      "134098/134098 [==============================] - 18s 136us/step - loss: 0.2196 - val_loss: 0.2225\n",
      "Epoch 37/10000\n",
      "134098/134098 [==============================] - 18s 136us/step - loss: 0.2195 - val_loss: 0.2228\n",
      "Epoch 38/10000\n",
      "134098/134098 [==============================] - 18s 136us/step - loss: 0.2196 - val_loss: 0.2222\n",
      "Epoch 39/10000\n",
      "134098/134098 [==============================] - 18s 137us/step - loss: 0.2195 - val_loss: 0.2222\n",
      "Epoch 40/10000\n",
      "134098/134098 [==============================] - 18s 136us/step - loss: 0.2195 - val_loss: 0.2222\n",
      "Epoch 41/10000\n",
      "134098/134098 [==============================] - 18s 138us/step - loss: 0.2193 - val_loss: 0.2233\n",
      "Epoch 42/10000\n",
      "134098/134098 [==============================] - 18s 137us/step - loss: 0.2193 - val_loss: 0.2226\n",
      "Epoch 43/10000\n",
      "134098/134098 [==============================] - 18s 137us/step - loss: 0.2193 - val_loss: 0.2222\n",
      "Epoch 44/10000\n",
      "134098/134098 [==============================] - 18s 137us/step - loss: 0.2193 - val_loss: 0.2229\n",
      "Epoch 45/10000\n",
      "134098/134098 [==============================] - 19s 138us/step - loss: 0.2192 - val_loss: 0.2220\n",
      "Epoch 46/10000\n",
      "134098/134098 [==============================] - 18s 136us/step - loss: 0.2192 - val_loss: 0.2222\n",
      "Epoch 47/10000\n",
      "134098/134098 [==============================] - 19s 142us/step - loss: 0.2192 - val_loss: 0.2226\n",
      "Epoch 48/10000\n",
      "134098/134098 [==============================] - 18s 138us/step - loss: 0.2191 - val_loss: 0.2231\n",
      "Epoch 49/10000\n",
      "134098/134098 [==============================] - 19s 138us/step - loss: 0.2191 - val_loss: 0.2224\n",
      "Epoch 50/10000\n",
      "134098/134098 [==============================] - 19s 141us/step - loss: 0.2190 - val_loss: 0.2222\n",
      "Epoch 51/10000\n",
      "134098/134098 [==============================] - 19s 140us/step - loss: 0.2190 - val_loss: 0.2223\n",
      "Epoch 52/10000\n",
      "134098/134098 [==============================] - 19s 138us/step - loss: 0.2190 - val_loss: 0.2224\n",
      "Epoch 53/10000\n",
      "134098/134098 [==============================] - 18s 137us/step - loss: 0.2189 - val_loss: 0.2221\n",
      "Epoch 54/10000\n",
      "134098/134098 [==============================] - 18s 137us/step - loss: 0.2189 - val_loss: 0.2222\n",
      "Epoch 55/10000\n",
      "134098/134098 [==============================] - 18s 136us/step - loss: 0.2189 - val_loss: 0.2227\n",
      "Epoch 56/10000\n",
      "134098/134098 [==============================] - 18s 135us/step - loss: 0.2188 - val_loss: 0.2224\n",
      "Epoch 57/10000\n",
      "134098/134098 [==============================] - 18s 136us/step - loss: 0.2188 - val_loss: 0.2230\n",
      "Epoch 58/10000\n",
      "134098/134098 [==============================] - 18s 136us/step - loss: 0.2187 - val_loss: 0.2229\n",
      "Epoch 59/10000\n",
      "134098/134098 [==============================] - 18s 138us/step - loss: 0.2186 - val_loss: 0.2248\n",
      "Epoch 60/10000\n",
      "134098/134098 [==============================] - 18s 136us/step - loss: 0.2188 - val_loss: 0.2224\n",
      "Epoch 61/10000\n",
      "134098/134098 [==============================] - 18s 135us/step - loss: 0.2187 - val_loss: 0.2233\n",
      "Epoch 62/10000\n",
      "134098/134098 [==============================] - 18s 135us/step - loss: 0.2186 - val_loss: 0.2230\n",
      "Epoch 63/10000\n",
      "134098/134098 [==============================] - 18s 136us/step - loss: 0.2186 - val_loss: 0.2223\n",
      "Epoch 64/10000\n",
      "134098/134098 [==============================] - 18s 136us/step - loss: 0.2185 - val_loss: 0.2230\n",
      "Epoch 65/10000\n",
      "134098/134098 [==============================] - 18s 136us/step - loss: 0.2186 - val_loss: 0.2228\n",
      "Epoch 66/10000\n",
      "134098/134098 [==============================] - 18s 136us/step - loss: 0.2185 - val_loss: 0.2225\n",
      "Epoch 67/10000\n",
      "134098/134098 [==============================] - 18s 137us/step - loss: 0.2184 - val_loss: 0.2228\n",
      "Epoch 68/10000\n",
      "134098/134098 [==============================] - 19s 138us/step - loss: 0.2185 - val_loss: 0.2232\n",
      "Epoch 69/10000\n",
      "134098/134098 [==============================] - 18s 137us/step - loss: 0.2184 - val_loss: 0.2225\n",
      "Epoch 70/10000\n",
      "134098/134098 [==============================] - 18s 137us/step - loss: 0.2184 - val_loss: 0.2227\n",
      "Epoch 71/10000\n",
      "134098/134098 [==============================] - 18s 138us/step - loss: 0.2184 - val_loss: 0.2240\n",
      "Epoch 72/10000\n",
      "134098/134098 [==============================] - 18s 137us/step - loss: 0.2183 - val_loss: 0.2223\n",
      "Epoch 73/10000\n"
     ]
    },
    {
     "name": "stdout",
     "output_type": "stream",
     "text": [
      "134098/134098 [==============================] - 18s 135us/step - loss: 0.2183 - val_loss: 0.2229\n",
      "Epoch 74/10000\n",
      "134098/134098 [==============================] - 18s 135us/step - loss: 0.2183 - val_loss: 0.2225\n",
      "Epoch 75/10000\n",
      "134098/134098 [==============================] - 18s 135us/step - loss: 0.2182 - val_loss: 0.2234\n",
      "Epoch 76/10000\n",
      "134098/134098 [==============================] - 18s 135us/step - loss: 0.2182 - val_loss: 0.2227\n",
      "Epoch 77/10000\n",
      "134098/134098 [==============================] - 18s 134us/step - loss: 0.2182 - val_loss: 0.2230\n",
      "Epoch 78/10000\n",
      "134098/134098 [==============================] - 18s 135us/step - loss: 0.2182 - val_loss: 0.2227\n",
      "Epoch 79/10000\n",
      "134098/134098 [==============================] - 18s 135us/step - loss: 0.2182 - val_loss: 0.2226\n",
      "Epoch 80/10000\n",
      "134098/134098 [==============================] - 18s 135us/step - loss: 0.2183 - val_loss: 0.2228\n",
      "Epoch 81/10000\n",
      "134098/134098 [==============================] - 18s 134us/step - loss: 0.2182 - val_loss: 0.2226\n",
      "Epoch 82/10000\n",
      "134098/134098 [==============================] - 18s 135us/step - loss: 0.2182 - val_loss: 0.2237\n",
      "Epoch 83/10000\n",
      "134098/134098 [==============================] - 18s 134us/step - loss: 0.2182 - val_loss: 0.2235\n",
      "Epoch 84/10000\n",
      "134098/134098 [==============================] - 18s 135us/step - loss: 0.2181 - val_loss: 0.2224\n",
      "Epoch 85/10000\n",
      "134098/134098 [==============================] - 18s 134us/step - loss: 0.2180 - val_loss: 0.2231\n",
      "Epoch 86/10000\n",
      "134098/134098 [==============================] - 18s 134us/step - loss: 0.2182 - val_loss: 0.2225\n",
      "Epoch 87/10000\n",
      "134098/134098 [==============================] - 18s 131us/step - loss: 0.2182 - val_loss: 0.2241\n",
      "Epoch 88/10000\n",
      "134098/134098 [==============================] - 18s 133us/step - loss: 0.2180 - val_loss: 0.2232\n",
      "Epoch 89/10000\n",
      "134098/134098 [==============================] - 18s 134us/step - loss: 0.2180 - val_loss: 0.2228\n",
      "Epoch 90/10000\n",
      "134098/134098 [==============================] - 18s 135us/step - loss: 0.2181 - val_loss: 0.2233\n",
      "Epoch 91/10000\n",
      "134098/134098 [==============================] - 18s 135us/step - loss: 0.2180 - val_loss: 0.2228\n",
      "Epoch 92/10000\n",
      "134098/134098 [==============================] - 18s 135us/step - loss: 0.2181 - val_loss: 0.2229\n",
      "Epoch 93/10000\n",
      "134098/134098 [==============================] - 18s 135us/step - loss: 0.2179 - val_loss: 0.2232\n",
      "Epoch 94/10000\n",
      "134098/134098 [==============================] - 18s 135us/step - loss: 0.2179 - val_loss: 0.2229\n",
      "Epoch 95/10000\n",
      "134098/134098 [==============================] - 18s 135us/step - loss: 0.2179 - val_loss: 0.2231\n",
      "Epoch 96/10000\n",
      "134098/134098 [==============================] - 18s 135us/step - loss: 0.2180 - val_loss: 0.2238\n",
      "Epoch 97/10000\n",
      "134098/134098 [==============================] - 18s 136us/step - loss: 0.2179 - val_loss: 0.2229\n",
      "Epoch 98/10000\n",
      "134098/134098 [==============================] - 18s 136us/step - loss: 0.2178 - val_loss: 0.2228\n",
      "Epoch 99/10000\n",
      "134098/134098 [==============================] - 18s 135us/step - loss: 0.2179 - val_loss: 0.2228\n",
      "Epoch 100/10000\n",
      "134098/134098 [==============================] - 18s 134us/step - loss: 0.2179 - val_loss: 0.2232\n",
      "Epoch 101/10000\n",
      "134098/134098 [==============================] - 18s 136us/step - loss: 0.2178 - val_loss: 0.2230\n",
      "Epoch 102/10000\n",
      "134098/134098 [==============================] - 18s 135us/step - loss: 0.2178 - val_loss: 0.2226\n",
      "Epoch 103/10000\n",
      "134098/134098 [==============================] - 18s 136us/step - loss: 0.2178 - val_loss: 0.2230\n",
      "Epoch 104/10000\n",
      "134098/134098 [==============================] - 18s 135us/step - loss: 0.2177 - val_loss: 0.2235\n",
      "Epoch 105/10000\n",
      "134098/134098 [==============================] - 18s 136us/step - loss: 0.2176 - val_loss: 0.2226\n",
      "Epoch 106/10000\n",
      "134098/134098 [==============================] - 18s 136us/step - loss: 0.2177 - val_loss: 0.2229\n",
      "Epoch 107/10000\n",
      "134098/134098 [==============================] - 18s 136us/step - loss: 0.2177 - val_loss: 0.2230\n",
      "Epoch 108/10000\n",
      "134098/134098 [==============================] - 18s 135us/step - loss: 0.2178 - val_loss: 0.2232\n",
      "Epoch 109/10000\n",
      "134098/134098 [==============================] - 18s 135us/step - loss: 0.2176 - val_loss: 0.2237\n",
      "Epoch 110/10000\n",
      "134098/134098 [==============================] - 18s 135us/step - loss: 0.2176 - val_loss: 0.2233\n",
      "Epoch 111/10000\n",
      "134098/134098 [==============================] - 18s 135us/step - loss: 0.2176 - val_loss: 0.2237\n",
      "Epoch 112/10000\n",
      "134098/134098 [==============================] - 18s 134us/step - loss: 0.2176 - val_loss: 0.2239\n",
      "Epoch 113/10000\n",
      "134098/134098 [==============================] - 18s 135us/step - loss: 0.2176 - val_loss: 0.2234\n",
      "Epoch 114/10000\n",
      "134098/134098 [==============================] - 18s 136us/step - loss: 0.2176 - val_loss: 0.2229\n"
     ]
    }
   ],
   "source": [
    "input_dim = X_train.shape[1]\n",
    "\n",
    "mlp = Sequential()\n",
    "\n",
    "mlp.add(Dense(8,activation='relu',input_dim = input_dim))\n",
    "mlp.add(Dense(8,activation='relu'))\n",
    "mlp.add(Dense(8,activation='relu'))\n",
    "mlp.add(Dense(8,activation='relu'))\n",
    "mlp.add(Dense(1, activation='sigmoid'))\n",
    "mlp.compile(optimizer='adam',loss='mean_squared_error')\n",
    "\n",
    "history = mlp.fit(X_train, y_train, batch_size=64, epochs= 10000,callbacks=[EarlyStopping(patience=100)], validation_data=[X_val,y_val])"
   ]
  },
  {
   "cell_type": "code",
   "execution_count": 69,
   "metadata": {},
   "outputs": [
    {
     "data": {
      "text/plain": [
       "<bound method BaseEstimator.get_params of MLPClassifier(activation='relu', alpha=1e-10, batch_size='auto', beta_1=0.9,\n",
       "       beta_2=0.999, early_stopping=False, epsilon=1e-08,\n",
       "       hidden_layer_sizes=(8, 8, 8, 8), learning_rate='constant',\n",
       "       learning_rate_init=0.01, max_iter=10000, momentum=0.9,\n",
       "       nesterovs_momentum=True, power_t=0.5, random_state=101,\n",
       "       shuffle=True, solver='adam', tol=1e-07, validation_fraction=0.1,\n",
       "       verbose=True, warm_start=False)>"
      ]
     },
     "execution_count": 69,
     "metadata": {},
     "output_type": "execute_result"
    }
   ],
   "source": [
    "mlp.get_params"
   ]
  },
  {
   "cell_type": "code",
   "execution_count": 68,
   "metadata": {},
   "outputs": [
    {
     "name": "stdout",
     "output_type": "stream",
     "text": [
      "Iteration 1, loss = 0.65918275\n",
      "Iteration 2, loss = 0.64588153\n",
      "Iteration 3, loss = 0.64476854\n",
      "Iteration 4, loss = 0.64499096\n",
      "Iteration 5, loss = 0.64349434\n",
      "Iteration 6, loss = 0.64148178\n",
      "Iteration 7, loss = 0.64022258\n",
      "Iteration 8, loss = 0.63942359\n",
      "Iteration 9, loss = 0.63839369\n",
      "Iteration 10, loss = 0.63778958\n",
      "Iteration 11, loss = 0.63766510\n",
      "Iteration 12, loss = 0.63787006\n",
      "Iteration 13, loss = 0.63672250\n",
      "Iteration 14, loss = 0.63676663\n",
      "Iteration 15, loss = 0.63660972\n"
     ]
    },
    {
     "name": "stderr",
     "output_type": "stream",
     "text": [
      "/home/wba/.local/lib/python3.5/site-packages/sklearn/neural_network/multilayer_perceptron.py:566: UserWarning: Training interrupted by user.\n",
      "  warnings.warn(\"Training interrupted by user.\")\n"
     ]
    },
    {
     "data": {
      "text/plain": [
       "MLPClassifier(activation='relu', alpha=1e-10, batch_size='auto', beta_1=0.9,\n",
       "       beta_2=0.999, early_stopping=False, epsilon=1e-08,\n",
       "       hidden_layer_sizes=(8, 8, 8, 8), learning_rate='constant',\n",
       "       learning_rate_init=0.01, max_iter=10000, momentum=0.9,\n",
       "       nesterovs_momentum=True, power_t=0.5, random_state=101,\n",
       "       shuffle=True, solver='adam', tol=1e-07, validation_fraction=0.1,\n",
       "       verbose=True, warm_start=False)"
      ]
     },
     "execution_count": 68,
     "metadata": {},
     "output_type": "execute_result"
    }
   ],
   "source": [
    "mlp = MLPClassifier(hidden_layer_sizes=(8,8,8,8,),tol=0.0000001, learning_rate_init=0.01,alpha=1e-10, max_iter=10000, random_state=101, verbose=True, learning_rate='constant')\n",
    "mlp.fit(X_train.values, y_train.values.ravel())"
   ]
  },
  {
   "cell_type": "code",
   "execution_count": 22,
   "metadata": {},
   "outputs": [
    {
     "name": "stdout",
     "output_type": "stream",
     "text": [
      "Mean accuracy score: 0.64\n"
     ]
    }
   ],
   "source": [
    "predicted = mlp.predict(X_test.values)\n",
    "accuracy = accuracy_score(y_test.values, predicted)\n",
    "print(\"Mean accuracy score: {:.3}\".format(accuracy))"
   ]
  },
  {
   "cell_type": "code",
   "execution_count": 54,
   "metadata": {},
   "outputs": [
    {
     "data": {
      "text/html": [
       "<div>\n",
       "<style scoped>\n",
       "    .dataframe tbody tr th:only-of-type {\n",
       "        vertical-align: middle;\n",
       "    }\n",
       "\n",
       "    .dataframe tbody tr th {\n",
       "        vertical-align: top;\n",
       "    }\n",
       "\n",
       "    .dataframe thead th {\n",
       "        text-align: right;\n",
       "    }\n",
       "</style>\n",
       "<table border=\"1\" class=\"dataframe\">\n",
       "  <thead>\n",
       "    <tr style=\"text-align: right;\">\n",
       "      <th></th>\n",
       "      <th>0</th>\n",
       "      <th>1</th>\n",
       "    </tr>\n",
       "  </thead>\n",
       "  <tbody>\n",
       "    <tr>\n",
       "      <th>0</th>\n",
       "      <td>33.162314</td>\n",
       "      <td>16.838432</td>\n",
       "    </tr>\n",
       "    <tr>\n",
       "      <th>1</th>\n",
       "      <td>19.202374</td>\n",
       "      <td>30.796880</td>\n",
       "    </tr>\n",
       "  </tbody>\n",
       "</table>\n",
       "</div>"
      ],
      "text/plain": [
       "           0          1\n",
       "0  33.162314  16.838432\n",
       "1  19.202374  30.796880"
      ]
     },
     "execution_count": 54,
     "metadata": {},
     "output_type": "execute_result"
    },
    {
     "data": {
      "image/png": "[encoded data removed]",
      "text/plain": [
       "<Figure size 720x504 with 2 Axes>"
      ]
     },
     "metadata": {},
     "output_type": "display_data"
    }
   ],
   "source": [
    "%matplotlib inline\n",
    "cm = pd.DataFrame(confusion_matrix(y_test, predicted))\n",
    "tot = cm.sum().sum()\n",
    "cm = cm.applymap(lambda x: x*100/tot)\n",
    "fig = plt.figure(figsize=(10,7))\n",
    "heatmap = sns.heatmap(cm, annot=True)\n",
    "plt.ylabel('True label(%)')\n",
    "plt.xlabel('Predicted label(%)')\n",
    "cm"
   ]
  },
  {
   "cell_type": "code",
   "execution_count": 55,
   "metadata": {},
   "outputs": [],
   "source": [
    "y_pred_mlp = mlp.predict_proba(X_test)[:, 1]\n",
    "fpr, tpr, thresholds = roc_curve(y_test.values, y_pred_mlp, pos_label=1)"
   ]
  },
  {
   "cell_type": "code",
   "execution_count": 56,
   "metadata": {},
   "outputs": [
    {
     "data": {
      "image/png": "[encoded data removed]",
      "text/plain": [
       "<Figure size 720x720 with 1 Axes>"
      ]
     },
     "metadata": {},
     "output_type": "display_data"
    }
   ],
   "source": [
    "%matplotlib inline\n",
    "from sklearn.metrics import auc\n",
    "\n",
    "roc_auc = auc(fpr, tpr)\n",
    "\n",
    "plt.figure(figsize=(10,10))\n",
    "plt.plot(fpr, tpr, color='darkorange', lw=1, label='ROC curve (area = %0.2f)' % roc_auc)\n",
    "#plt.plot(tpr, fpr, color='darkblue', lw=1, label='ROC curve (area = %0.2f)' % roc_auc)\n",
    "plt.plot([0, 1], [0, 1], color='navy', linestyle='--')\n",
    "plt.xlim([0.0, 1.0])\n",
    "plt.ylim([0.0, 1.05])\n",
    "plt.xlabel('False Positive Rate')\n",
    "plt.ylabel('True Positive Rate')\n",
    "plt.title('Receiver Operating Oharacteristic')\n",
    "plt.legend(loc=\"lower right\")\n",
    "plt.show()"
   ]
  },
  {
   "cell_type": "code",
   "execution_count": 62,
   "metadata": {},
   "outputs": [],
   "source": [
    "from scipy import stats\n",
    "\n",
    "def get_metrics(y, pred, probas):\n",
    "    accuracy = accuracy_score(y.values, pred)\n",
    "    recall = recall_score(y.values, pred)\n",
    "    precision = precision_score(y.values, pred)\n",
    "    f1 = f1_score(y.values, pred)\n",
    "    aupr = average_precision_score(y.values, pred)\n",
    "    fpr, tpr, thresholds = roc_curve(y.values, probas, pos_label=1)\n",
    "    ks = stats.ks_2samp(y.iloc[:,0].values, probas)\n",
    "    return (accuracy, recall, precision, f1, aupr, fpr, tpr, thresholds, ks)"
   ]
  },
  {
   "cell_type": "code",
   "execution_count": 63,
   "metadata": {},
   "outputs": [],
   "source": [
    "y_pred_mlp = mlp.predict_proba(X_test)[:, 1]"
   ]
  },
  {
   "cell_type": "code",
   "execution_count": 64,
   "metadata": {},
   "outputs": [
    {
     "name": "stdout",
     "output_type": "stream",
     "text": [
      "Accuracy score: 0.64\n",
      "Recall score: 0.616\n",
      "Precision score: 0.647\n",
      "f1 score: 0.631\n",
      "aupr: 0.59\n",
      "roc: 0.69\n",
      "KS: 0.500007457232770069488481112785\n"
     ]
    }
   ],
   "source": [
    "accuracy, recall, precision, f1, aupr, fpr, tpr, thresholds, ks = get_metrics(y_test, predicted, y_pred_mlp)\n",
    "print(\"Accuracy score: {:.3}\".format(accuracy))\n",
    "print(\"Recall score: {:.3}\".format(recall))\n",
    "print(\"Precision score: {:.3}\".format(precision))\n",
    "print(\"f1 score: {:.3}\".format(f1))\n",
    "print(\"aupr: {:.3}\".format(aupr))\n",
    "print(\"roc: {:.3}\".format(roc_auc))\n",
    "print(\"KS: {:.30}\".format(ks[0]))"
   ]
  },
  {
   "cell_type": "code",
   "execution_count": null,
   "metadata": {},
   "outputs": [],
   "source": []
  }
 ],
 "metadata": {
  "kernelspec": {
   "display_name": "Python 3",
   "language": "python",
   "name": "python3"
  },
  "language_info": {
   "codemirror_mode": {
    "name": "ipython",
    "version": 3
   },
   "file_extension": ".py",
   "mimetype": "text/x-python",
   "name": "python",
   "nbconvert_exporter": "python",
   "pygments_lexer": "ipython3",
   "version": "3.5.3"
  }
 },
 "nbformat": 4,
 "nbformat_minor": 2
}
