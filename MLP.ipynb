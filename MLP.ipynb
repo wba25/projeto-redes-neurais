{
 "cells": [
  {
   "cell_type": "code",
   "execution_count": 1,
   "metadata": {},
   "outputs": [],
   "source": [
    "import numpy as np\n",
    "import scipy as sp\n",
    "import pandas as pd\n",
    "\n",
    "from sklearn.model_selection import KFold\n",
    "from sklearn.preprocessing import StandardScaler\n",
    "from sklearn.model_selection import train_test_split\n",
    "from sklearn.metrics import confusion_matrix\n",
    "from sklearn.metrics import accuracy_score, recall_score, precision_score, f1_score\n",
    "from sklearn.metrics import roc_auc_score, average_precision_score, roc_curve\n",
    "\n",
    "import matplotlib\n",
    "matplotlib.use('nbagg')\n",
    "import matplotlib.pyplot as plt\n",
    "\n",
    "import seaborn as sns"
   ]
  },
  {
   "cell_type": "code",
   "execution_count": 2,
   "metadata": {},
   "outputs": [],
   "source": [
    "from sklearn.neural_network import MLPClassifier"
   ]
  },
  {
   "cell_type": "code",
   "execution_count": 3,
   "metadata": {},
   "outputs": [],
   "source": [
    "data_set = pd.read_csv(\"data/trn.csv\", sep=',', header=0, low_memory=False)"
   ]
  },
  {
   "cell_type": "code",
   "execution_count": 4,
   "metadata": {},
   "outputs": [],
   "source": [
    "#data_set = pd.concat([data_set[data_set.y == 1].iloc[0:20000],data_set[data_set.y == 0].iloc[0:20000]])"
   ]
  },
  {
   "cell_type": "code",
   "execution_count": 5,
   "metadata": {},
   "outputs": [],
   "source": [
    "data_set = data_set.drop('INDEX', 1)\n",
    "data_set = data_set.drop('Unnamed: 0', 1)\n",
    "\n",
    "# encontra as variavies categoricas\n",
    "for col in data_set.columns:\n",
    "    if ((data_set[col].quantile() == 1.0) | (data_set[col].quantile() == 0.0)):\n",
    "        data_set[col] = data_set[col].astype('category')"
   ]
  },
  {
   "cell_type": "code",
   "execution_count": 6,
   "metadata": {},
   "outputs": [],
   "source": [
    "from sklearn.model_selection import train_test_split"
   ]
  },
  {
   "cell_type": "code",
   "execution_count": 7,
   "metadata": {},
   "outputs": [],
   "source": [
    "correlacoes = data_set.corr()['y']\n",
    "correlacoes = correlacoes.drop(['y'])"
   ]
  },
  {
   "cell_type": "code",
   "execution_count": 8,
   "metadata": {},
   "outputs": [],
   "source": [
    "corrr = correlacoes.apply(lambda x: (x*x))\n",
    "corrr = corrr.to_frame()\n",
    "todel = []\n",
    "i = 0\n",
    "\n",
    "for i in range(0,corrr.shape[0]):\n",
    "    index = corrr.index[i]\n",
    "    if corrr.iloc[i][0] < corrr.mean()[0]:\n",
    "        todel.append(index)"
   ]
  },
  {
   "cell_type": "code",
   "execution_count": 9,
   "metadata": {},
   "outputs": [],
   "source": [
    "#dt2 = data_set.drop(columns=todel)\n",
    "dt2 = data_set"
   ]
  },
  {
   "cell_type": "code",
   "execution_count": 10,
   "metadata": {},
   "outputs": [],
   "source": [
    "X = dt2.loc[:, dt2.columns !='y']\n",
    "y = dt2.iloc[:, dt2.columns == 'y']"
   ]
  },
  {
   "cell_type": "code",
   "execution_count": 11,
   "metadata": {},
   "outputs": [],
   "source": [
    "X_train, X_test, y_train, y_test = train_test_split(X, y, test_size=1/4, random_state=42, stratify=y)\n",
    "\n",
    "X_train, X_val, y_train, y_val = train_test_split(X_train, y_train, test_size=1/3, random_state=42, stratify=y_train)"
   ]
  },
  {
   "cell_type": "code",
   "execution_count": 12,
   "metadata": {},
   "outputs": [],
   "source": [
    "#from sklearn.neural_network import MLPClassifier"
   ]
  },
  {
   "cell_type": "code",
   "execution_count": 13,
   "metadata": {},
   "outputs": [
    {
     "name": "stderr",
     "output_type": "stream",
     "text": [
      "Using TensorFlow backend.\n"
     ]
    }
   ],
   "source": [
    "from keras.models import Sequential\n",
    "from keras.layers import Dense\n",
    "from keras.callbacks import EarlyStopping"
   ]
  },
  {
   "cell_type": "code",
   "execution_count": 14,
   "metadata": {},
   "outputs": [
    {
     "name": "stdout",
     "output_type": "stream",
     "text": [
      "Train on 134098 samples, validate on 67049 samples\n",
      "Epoch 1/10000\n",
      "134098/134098 [==============================] - 23s 171us/step - loss: 0.2336 - val_loss: 0.2270\n",
      "Epoch 2/10000\n",
      "134098/134098 [==============================] - 18s 134us/step - loss: 0.2261 - val_loss: 0.2244\n",
      "Epoch 3/10000\n",
      "134098/134098 [==============================] - 18s 134us/step - loss: 0.2245 - val_loss: 0.2235\n",
      "Epoch 4/10000\n",
      "134098/134098 [==============================] - 19s 139us/step - loss: 0.2236 - val_loss: 0.2246\n",
      "Epoch 5/10000\n",
      "134098/134098 [==============================] - 19s 140us/step - loss: 0.2233 - val_loss: 0.2229\n",
      "Epoch 6/10000\n",
      "134098/134098 [==============================] - 18s 135us/step - loss: 0.2228 - val_loss: 0.2229\n",
      "Epoch 7/10000\n",
      "134098/134098 [==============================] - 18s 138us/step - loss: 0.2225 - val_loss: 0.2223\n",
      "Epoch 8/10000\n",
      "134098/134098 [==============================] - 18s 137us/step - loss: 0.2224 - val_loss: 0.2231\n",
      "Epoch 9/10000\n",
      "134098/134098 [==============================] - 18s 137us/step - loss: 0.2221 - val_loss: 0.2226\n",
      "Epoch 10/10000\n",
      "134098/134098 [==============================] - 18s 138us/step - loss: 0.2219 - val_loss: 0.2218\n",
      "Epoch 11/10000\n",
      "134098/134098 [==============================] - 19s 139us/step - loss: 0.2216 - val_loss: 0.2215\n",
      "Epoch 12/10000\n",
      "134098/134098 [==============================] - 19s 139us/step - loss: 0.2215 - val_loss: 0.2215\n",
      "Epoch 13/10000\n",
      "134098/134098 [==============================] - 19s 139us/step - loss: 0.2213 - val_loss: 0.2218\n",
      "Epoch 14/10000\n",
      "134098/134098 [==============================] - 18s 131us/step - loss: 0.2211 - val_loss: 0.2223\n",
      "Epoch 15/10000\n",
      "134098/134098 [==============================] - 18s 138us/step - loss: 0.2210 - val_loss: 0.2217\n",
      "Epoch 16/10000\n",
      "134098/134098 [==============================] - 19s 139us/step - loss: 0.2209 - val_loss: 0.2214\n",
      "Epoch 17/10000\n",
      "134098/134098 [==============================] - 19s 139us/step - loss: 0.2208 - val_loss: 0.2217\n",
      "Epoch 18/10000\n",
      "134098/134098 [==============================] - 19s 139us/step - loss: 0.2206 - val_loss: 0.2217\n",
      "Epoch 19/10000\n",
      "134098/134098 [==============================] - 19s 139us/step - loss: 0.2204 - val_loss: 0.2212\n",
      "Epoch 20/10000\n",
      "134098/134098 [==============================] - 19s 140us/step - loss: 0.2204 - val_loss: 0.2218\n",
      "Epoch 21/10000\n",
      "134098/134098 [==============================] - 19s 142us/step - loss: 0.2203 - val_loss: 0.2220\n",
      "Epoch 22/10000\n",
      "134098/134098 [==============================] - 19s 144us/step - loss: 0.2204 - val_loss: 0.2220\n",
      "Epoch 23/10000\n",
      "134098/134098 [==============================] - 19s 140us/step - loss: 0.2202 - val_loss: 0.2218\n",
      "Epoch 24/10000\n",
      "134098/134098 [==============================] - 19s 140us/step - loss: 0.2202 - val_loss: 0.2213\n",
      "Epoch 25/10000\n",
      "134098/134098 [==============================] - 18s 137us/step - loss: 0.2202 - val_loss: 0.2215\n",
      "Epoch 26/10000\n",
      "134098/134098 [==============================] - 18s 132us/step - loss: 0.2200 - val_loss: 0.2235\n",
      "Epoch 27/10000\n",
      "134098/134098 [==============================] - 18s 138us/step - loss: 0.2200 - val_loss: 0.2218\n",
      "Epoch 28/10000\n",
      "134098/134098 [==============================] - 19s 138us/step - loss: 0.2199 - val_loss: 0.2215\n",
      "Epoch 29/10000\n",
      "134098/134098 [==============================] - 19s 138us/step - loss: 0.2197 - val_loss: 0.2219\n",
      "Epoch 30/10000\n",
      "134098/134098 [==============================] - 18s 136us/step - loss: 0.2198 - val_loss: 0.2217\n",
      "Epoch 31/10000\n",
      "134098/134098 [==============================] - 18s 137us/step - loss: 0.2198 - val_loss: 0.2222\n",
      "Epoch 32/10000\n",
      "134098/134098 [==============================] - 18s 137us/step - loss: 0.2197 - val_loss: 0.2212\n",
      "Epoch 33/10000\n",
      "134098/134098 [==============================] - 18s 138us/step - loss: 0.2197 - val_loss: 0.2217\n",
      "Epoch 34/10000\n",
      "134098/134098 [==============================] - 18s 137us/step - loss: 0.2197 - val_loss: 0.2217\n",
      "Epoch 35/10000\n",
      "134098/134098 [==============================] - 18s 138us/step - loss: 0.2196 - val_loss: 0.2214\n",
      "Epoch 36/10000\n",
      "134098/134098 [==============================] - 19s 139us/step - loss: 0.2196 - val_loss: 0.2214\n",
      "Epoch 37/10000\n",
      "134098/134098 [==============================] - 19s 138us/step - loss: 0.2196 - val_loss: 0.2221\n",
      "Epoch 38/10000\n",
      "134098/134098 [==============================] - 19s 139us/step - loss: 0.2195 - val_loss: 0.2215\n",
      "Epoch 39/10000\n",
      "134098/134098 [==============================] - 19s 139us/step - loss: 0.2194 - val_loss: 0.2214\n",
      "Epoch 40/10000\n",
      "134098/134098 [==============================] - 19s 139us/step - loss: 0.2194 - val_loss: 0.2217\n",
      "Epoch 41/10000\n",
      "134098/134098 [==============================] - 19s 138us/step - loss: 0.2194 - val_loss: 0.2221\n",
      "Epoch 42/10000\n",
      "134098/134098 [==============================] - 19s 139us/step - loss: 0.2193 - val_loss: 0.2215\n",
      "Epoch 43/10000\n",
      "134098/134098 [==============================] - 19s 139us/step - loss: 0.2193 - val_loss: 0.2217\n",
      "Epoch 44/10000\n",
      "134098/134098 [==============================] - 19s 139us/step - loss: 0.2193 - val_loss: 0.2221\n",
      "Epoch 45/10000\n",
      "134098/134098 [==============================] - 19s 142us/step - loss: 0.2193 - val_loss: 0.2215\n",
      "Epoch 46/10000\n",
      "134098/134098 [==============================] - 19s 141us/step - loss: 0.2193 - val_loss: 0.2214\n",
      "Epoch 47/10000\n",
      "134098/134098 [==============================] - 19s 139us/step - loss: 0.2192 - val_loss: 0.2221\n",
      "Epoch 48/10000\n",
      "134098/134098 [==============================] - 19s 140us/step - loss: 0.2192 - val_loss: 0.2216\n",
      "Epoch 49/10000\n",
      "134098/134098 [==============================] - 19s 140us/step - loss: 0.2191 - val_loss: 0.2219\n",
      "Epoch 50/10000\n",
      "134098/134098 [==============================] - 19s 139us/step - loss: 0.2192 - val_loss: 0.2218\n",
      "Epoch 51/10000\n",
      "134098/134098 [==============================] - 19s 139us/step - loss: 0.2191 - val_loss: 0.2218\n",
      "Epoch 52/10000\n",
      "134098/134098 [==============================] - 19s 140us/step - loss: 0.2191 - val_loss: 0.2214\n",
      "Epoch 53/10000\n",
      "134098/134098 [==============================] - 18s 131us/step - loss: 0.2190 - val_loss: 0.2218\n",
      "Epoch 54/10000\n",
      "134098/134098 [==============================] - 18s 131us/step - loss: 0.2190 - val_loss: 0.2215\n",
      "Epoch 55/10000\n",
      "134098/134098 [==============================] - 18s 131us/step - loss: 0.2189 - val_loss: 0.2216\n",
      "Epoch 56/10000\n",
      "134098/134098 [==============================] - 18s 131us/step - loss: 0.2190 - val_loss: 0.2218\n",
      "Epoch 57/10000\n",
      "134098/134098 [==============================] - 17s 130us/step - loss: 0.2190 - val_loss: 0.2219\n",
      "Epoch 58/10000\n",
      "134098/134098 [==============================] - 18s 131us/step - loss: 0.2189 - val_loss: 0.2217\n",
      "Epoch 59/10000\n",
      "134098/134098 [==============================] - 18s 132us/step - loss: 0.2189 - val_loss: 0.2219\n",
      "Epoch 60/10000\n",
      "134098/134098 [==============================] - 18s 131us/step - loss: 0.2189 - val_loss: 0.2218\n",
      "Epoch 61/10000\n",
      "134098/134098 [==============================] - 18s 131us/step - loss: 0.2188 - val_loss: 0.2218\n",
      "Epoch 62/10000\n",
      "134098/134098 [==============================] - 18s 133us/step - loss: 0.2189 - val_loss: 0.2219\n",
      "Epoch 63/10000\n",
      "134098/134098 [==============================] - 18s 132us/step - loss: 0.2188 - val_loss: 0.2217\n",
      "Epoch 64/10000\n",
      "134098/134098 [==============================] - 18s 133us/step - loss: 0.2188 - val_loss: 0.2216\n",
      "Epoch 65/10000\n",
      "134098/134098 [==============================] - 19s 143us/step - loss: 0.2188 - val_loss: 0.2220\n",
      "Epoch 66/10000\n",
      "134098/134098 [==============================] - 19s 140us/step - loss: 0.2187 - val_loss: 0.2219\n",
      "Epoch 67/10000\n",
      "134098/134098 [==============================] - 19s 140us/step - loss: 0.2188 - val_loss: 0.2216\n",
      "Epoch 68/10000\n",
      "134098/134098 [==============================] - 19s 142us/step - loss: 0.2187 - val_loss: 0.2219\n",
      "Epoch 69/10000\n",
      "134098/134098 [==============================] - 19s 140us/step - loss: 0.2187 - val_loss: 0.2221\n",
      "Epoch 70/10000\n",
      "134098/134098 [==============================] - 19s 139us/step - loss: 0.2187 - val_loss: 0.2222\n",
      "Epoch 71/10000\n",
      "134098/134098 [==============================] - 19s 142us/step - loss: 0.2187 - val_loss: 0.2216\n",
      "Epoch 72/10000\n",
      "134098/134098 [==============================] - 19s 144us/step - loss: 0.2186 - val_loss: 0.2229\n",
      "Epoch 73/10000\n"
     ]
    },
    {
     "name": "stdout",
     "output_type": "stream",
     "text": [
      "134098/134098 [==============================] - 18s 131us/step - loss: 0.2187 - val_loss: 0.2222\n",
      "Epoch 74/10000\n",
      "134098/134098 [==============================] - 17s 130us/step - loss: 0.2186 - val_loss: 0.2216\n",
      "Epoch 75/10000\n",
      "134098/134098 [==============================] - 18s 133us/step - loss: 0.2186 - val_loss: 0.2224\n",
      "Epoch 76/10000\n",
      "134098/134098 [==============================] - 17s 130us/step - loss: 0.2186 - val_loss: 0.2216\n",
      "Epoch 77/10000\n",
      "134098/134098 [==============================] - 18s 132us/step - loss: 0.2186 - val_loss: 0.2217\n",
      "Epoch 78/10000\n",
      "134098/134098 [==============================] - 19s 139us/step - loss: 0.2186 - val_loss: 0.2218\n",
      "Epoch 79/10000\n",
      "134098/134098 [==============================] - 19s 142us/step - loss: 0.2185 - val_loss: 0.2220\n",
      "Epoch 80/10000\n",
      "134098/134098 [==============================] - 19s 139us/step - loss: 0.2186 - val_loss: 0.2215\n",
      "Epoch 81/10000\n",
      "134098/134098 [==============================] - 19s 139us/step - loss: 0.2185 - val_loss: 0.2218\n",
      "Epoch 82/10000\n",
      "134098/134098 [==============================] - 19s 138us/step - loss: 0.2186 - val_loss: 0.2217\n",
      "Epoch 83/10000\n",
      "134098/134098 [==============================] - 19s 141us/step - loss: 0.2185 - val_loss: 0.2218\n",
      "Epoch 84/10000\n",
      "134098/134098 [==============================] - 18s 137us/step - loss: 0.2184 - val_loss: 0.2219\n",
      "Epoch 85/10000\n",
      "134098/134098 [==============================] - 18s 137us/step - loss: 0.2184 - val_loss: 0.2218\n",
      "Epoch 86/10000\n",
      "134098/134098 [==============================] - 18s 137us/step - loss: 0.2185 - val_loss: 0.2220\n",
      "Epoch 87/10000\n",
      "134098/134098 [==============================] - 19s 142us/step - loss: 0.2184 - val_loss: 0.2221\n",
      "Epoch 88/10000\n",
      "134098/134098 [==============================] - 18s 138us/step - loss: 0.2185 - val_loss: 0.2217\n",
      "Epoch 89/10000\n",
      "134098/134098 [==============================] - 18s 137us/step - loss: 0.2185 - val_loss: 0.2220\n",
      "Epoch 90/10000\n",
      "134098/134098 [==============================] - 18s 136us/step - loss: 0.2184 - val_loss: 0.2219\n",
      "Epoch 91/10000\n",
      "134098/134098 [==============================] - 19s 140us/step - loss: 0.2184 - val_loss: 0.2224\n",
      "Epoch 92/10000\n",
      "134098/134098 [==============================] - 19s 143us/step - loss: 0.2183 - val_loss: 0.2221\n",
      "Epoch 93/10000\n",
      "134098/134098 [==============================] - 19s 143us/step - loss: 0.2183 - val_loss: 0.2218\n",
      "Epoch 94/10000\n",
      "134098/134098 [==============================] - 19s 141us/step - loss: 0.2183 - val_loss: 0.2221\n",
      "Epoch 95/10000\n",
      "134098/134098 [==============================] - 19s 144us/step - loss: 0.2184 - val_loss: 0.2221\n",
      "Epoch 96/10000\n",
      "134098/134098 [==============================] - 18s 137us/step - loss: 0.2183 - val_loss: 0.2219\n",
      "Epoch 97/10000\n",
      "134098/134098 [==============================] - 18s 135us/step - loss: 0.2184 - val_loss: 0.2217\n",
      "Epoch 98/10000\n",
      "134098/134098 [==============================] - 19s 141us/step - loss: 0.2183 - val_loss: 0.2225\n",
      "Epoch 99/10000\n",
      "134098/134098 [==============================] - 20s 146us/step - loss: 0.2183 - val_loss: 0.2222\n",
      "Epoch 100/10000\n",
      "134098/134098 [==============================] - 18s 131us/step - loss: 0.2183 - val_loss: 0.2219\n",
      "Epoch 101/10000\n",
      "134098/134098 [==============================] - 18s 132us/step - loss: 0.2183 - val_loss: 0.2219\n",
      "Epoch 102/10000\n",
      "134098/134098 [==============================] - 19s 141us/step - loss: 0.2182 - val_loss: 0.2218\n",
      "Epoch 103/10000\n",
      "134098/134098 [==============================] - 18s 135us/step - loss: 0.2183 - val_loss: 0.2220\n",
      "Epoch 104/10000\n",
      "134098/134098 [==============================] - 19s 141us/step - loss: 0.2183 - val_loss: 0.2225\n",
      "Epoch 105/10000\n",
      "134098/134098 [==============================] - 19s 140us/step - loss: 0.2183 - val_loss: 0.2218\n",
      "Epoch 106/10000\n",
      "134098/134098 [==============================] - 19s 138us/step - loss: 0.2182 - val_loss: 0.2224\n",
      "Epoch 107/10000\n",
      "134098/134098 [==============================] - 18s 133us/step - loss: 0.2182 - val_loss: 0.2225\n",
      "Epoch 108/10000\n",
      "134098/134098 [==============================] - 19s 139us/step - loss: 0.2182 - val_loss: 0.2223\n",
      "Epoch 109/10000\n",
      "134098/134098 [==============================] - 18s 137us/step - loss: 0.2182 - val_loss: 0.2221\n",
      "Epoch 110/10000\n",
      "134098/134098 [==============================] - 19s 140us/step - loss: 0.2182 - val_loss: 0.2223\n",
      "Epoch 111/10000\n",
      "134098/134098 [==============================] - 19s 143us/step - loss: 0.2181 - val_loss: 0.2221\n",
      "Epoch 112/10000\n",
      "134098/134098 [==============================] - 19s 141us/step - loss: 0.2181 - val_loss: 0.2224\n",
      "Epoch 113/10000\n",
      "134098/134098 [==============================] - 19s 138us/step - loss: 0.2181 - val_loss: 0.2218\n",
      "Epoch 114/10000\n",
      "134098/134098 [==============================] - 19s 141us/step - loss: 0.2181 - val_loss: 0.2219\n",
      "Epoch 115/10000\n",
      "134098/134098 [==============================] - 19s 138us/step - loss: 0.2181 - val_loss: 0.2219\n",
      "Epoch 116/10000\n",
      "134098/134098 [==============================] - 18s 137us/step - loss: 0.2181 - val_loss: 0.2221\n",
      "Epoch 117/10000\n",
      "134098/134098 [==============================] - 18s 138us/step - loss: 0.2181 - val_loss: 0.2226\n",
      "Epoch 118/10000\n",
      "134098/134098 [==============================] - 19s 141us/step - loss: 0.2182 - val_loss: 0.2230\n",
      "Epoch 119/10000\n",
      "134098/134098 [==============================] - 19s 138us/step - loss: 0.2181 - val_loss: 0.2219\n"
     ]
    }
   ],
   "source": [
    "input_dim = X_train.shape[1]\n",
    "\n",
    "mlp = Sequential()\n",
    "\n",
    "mlp.add(Dense(8,activation='relu',input_dim = input_dim))\n",
    "mlp.add(Dense(8,activation='relu'))\n",
    "mlp.add(Dense(8,activation='relu'))\n",
    "mlp.add(Dense(8,activation='relu'))\n",
    "mlp.add(Dense(1, activation='sigmoid'))\n",
    "mlp.compile(optimizer='adam',loss='mean_squared_error')\n",
    "\n",
    "history = mlp.fit(X_train, y_train, batch_size=64, epochs= 10000,callbacks=[EarlyStopping(patience=100)], validation_data=[X_val,y_val])"
   ]
  },
  {
   "cell_type": "code",
   "execution_count": 15,
   "metadata": {},
   "outputs": [
    {
     "data": {
      "text/plain": [
       "[{'class_name': 'Dense',\n",
       "  'config': {'activation': 'relu',\n",
       "   'activity_regularizer': None,\n",
       "   'batch_input_shape': (None, 243),\n",
       "   'bias_constraint': None,\n",
       "   'bias_initializer': {'class_name': 'Zeros', 'config': {}},\n",
       "   'bias_regularizer': None,\n",
       "   'dtype': 'float32',\n",
       "   'kernel_constraint': None,\n",
       "   'kernel_initializer': {'class_name': 'VarianceScaling',\n",
       "    'config': {'distribution': 'uniform',\n",
       "     'mode': 'fan_avg',\n",
       "     'scale': 1.0,\n",
       "     'seed': None}},\n",
       "   'kernel_regularizer': None,\n",
       "   'name': 'dense_1',\n",
       "   'trainable': True,\n",
       "   'units': 8,\n",
       "   'use_bias': True}},\n",
       " {'class_name': 'Dense',\n",
       "  'config': {'activation': 'relu',\n",
       "   'activity_regularizer': None,\n",
       "   'bias_constraint': None,\n",
       "   'bias_initializer': {'class_name': 'Zeros', 'config': {}},\n",
       "   'bias_regularizer': None,\n",
       "   'kernel_constraint': None,\n",
       "   'kernel_initializer': {'class_name': 'VarianceScaling',\n",
       "    'config': {'distribution': 'uniform',\n",
       "     'mode': 'fan_avg',\n",
       "     'scale': 1.0,\n",
       "     'seed': None}},\n",
       "   'kernel_regularizer': None,\n",
       "   'name': 'dense_2',\n",
       "   'trainable': True,\n",
       "   'units': 8,\n",
       "   'use_bias': True}},\n",
       " {'class_name': 'Dense',\n",
       "  'config': {'activation': 'relu',\n",
       "   'activity_regularizer': None,\n",
       "   'bias_constraint': None,\n",
       "   'bias_initializer': {'class_name': 'Zeros', 'config': {}},\n",
       "   'bias_regularizer': None,\n",
       "   'kernel_constraint': None,\n",
       "   'kernel_initializer': {'class_name': 'VarianceScaling',\n",
       "    'config': {'distribution': 'uniform',\n",
       "     'mode': 'fan_avg',\n",
       "     'scale': 1.0,\n",
       "     'seed': None}},\n",
       "   'kernel_regularizer': None,\n",
       "   'name': 'dense_3',\n",
       "   'trainable': True,\n",
       "   'units': 8,\n",
       "   'use_bias': True}},\n",
       " {'class_name': 'Dense',\n",
       "  'config': {'activation': 'relu',\n",
       "   'activity_regularizer': None,\n",
       "   'bias_constraint': None,\n",
       "   'bias_initializer': {'class_name': 'Zeros', 'config': {}},\n",
       "   'bias_regularizer': None,\n",
       "   'kernel_constraint': None,\n",
       "   'kernel_initializer': {'class_name': 'VarianceScaling',\n",
       "    'config': {'distribution': 'uniform',\n",
       "     'mode': 'fan_avg',\n",
       "     'scale': 1.0,\n",
       "     'seed': None}},\n",
       "   'kernel_regularizer': None,\n",
       "   'name': 'dense_4',\n",
       "   'trainable': True,\n",
       "   'units': 8,\n",
       "   'use_bias': True}},\n",
       " {'class_name': 'Dense',\n",
       "  'config': {'activation': 'sigmoid',\n",
       "   'activity_regularizer': None,\n",
       "   'bias_constraint': None,\n",
       "   'bias_initializer': {'class_name': 'Zeros', 'config': {}},\n",
       "   'bias_regularizer': None,\n",
       "   'kernel_constraint': None,\n",
       "   'kernel_initializer': {'class_name': 'VarianceScaling',\n",
       "    'config': {'distribution': 'uniform',\n",
       "     'mode': 'fan_avg',\n",
       "     'scale': 1.0,\n",
       "     'seed': None}},\n",
       "   'kernel_regularizer': None,\n",
       "   'name': 'dense_5',\n",
       "   'trainable': True,\n",
       "   'units': 1,\n",
       "   'use_bias': True}}]"
      ]
     },
     "execution_count": 15,
     "metadata": {},
     "output_type": "execute_result"
    }
   ],
   "source": [
    "mlp.get_config()"
   ]
  },
  {
   "cell_type": "code",
   "execution_count": 16,
   "metadata": {},
   "outputs": [],
   "source": [
    "#mlp = MLPClassifier(hidden_layer_sizes=(8,8,8,8,),tol=0.0000001, learning_rate_init=0.01,alpha=1e-10, max_iter=10000, random_state=101, verbose=True, learning_rate='constant')\n",
    "#mlp.fit(X_train.values, y_train.values.ravel())"
   ]
  },
  {
   "cell_type": "code",
   "execution_count": 17,
   "metadata": {},
   "outputs": [],
   "source": [
    "predicted = mlp.predict(X_test.values)\n",
    "y_pred_class = mlp.predict_classes(X_test.values)"
   ]
  },
  {
   "cell_type": "code",
   "execution_count": 18,
   "metadata": {},
   "outputs": [
    {
     "data": {
      "text/html": [
       "<div>\n",
       "<style scoped>\n",
       "    .dataframe tbody tr th:only-of-type {\n",
       "        vertical-align: middle;\n",
       "    }\n",
       "\n",
       "    .dataframe tbody tr th {\n",
       "        vertical-align: top;\n",
       "    }\n",
       "\n",
       "    .dataframe thead th {\n",
       "        text-align: right;\n",
       "    }\n",
       "</style>\n",
       "<table border=\"1\" class=\"dataframe\">\n",
       "  <thead>\n",
       "    <tr style=\"text-align: right;\">\n",
       "      <th></th>\n",
       "      <th>0</th>\n",
       "      <th>1</th>\n",
       "    </tr>\n",
       "  </thead>\n",
       "  <tbody>\n",
       "    <tr>\n",
       "      <th>0</th>\n",
       "      <td>33.402437</td>\n",
       "      <td>16.598309</td>\n",
       "    </tr>\n",
       "    <tr>\n",
       "      <th>1</th>\n",
       "      <td>19.593133</td>\n",
       "      <td>30.406121</td>\n",
       "    </tr>\n",
       "  </tbody>\n",
       "</table>\n",
       "</div>"
      ],
      "text/plain": [
       "           0          1\n",
       "0  33.402437  16.598309\n",
       "1  19.593133  30.406121"
      ]
     },
     "execution_count": 18,
     "metadata": {},
     "output_type": "execute_result"
    },
    {
     "data": {
      "image/png": "[encoded data removed]",
      "text/plain": [
       "<Figure size 720x504 with 2 Axes>"
      ]
     },
     "metadata": {},
     "output_type": "display_data"
    }
   ],
   "source": [
    "%matplotlib inline\n",
    "cm = pd.DataFrame(confusion_matrix(y_test, y_pred_class))\n",
    "tot = cm.sum().sum()\n",
    "cm = cm.applymap(lambda x: x*100/tot)\n",
    "fig = plt.figure(figsize=(10,7))\n",
    "heatmap = sns.heatmap(cm, annot=True)\n",
    "plt.ylabel('True label(%)')\n",
    "plt.xlabel('Predicted label(%)')\n",
    "cm"
   ]
  },
  {
   "cell_type": "code",
   "execution_count": 19,
   "metadata": {},
   "outputs": [],
   "source": [
    "y_pred_mlp = mlp.predict_proba(X_test)\n",
    "fpr, tpr, thresholds = roc_curve(y_test.values, y_pred_mlp, pos_label=1)"
   ]
  },
  {
   "cell_type": "code",
   "execution_count": 20,
   "metadata": {},
   "outputs": [
    {
     "data": {
      "image/png": "[encoded data removed]",
      "text/plain": [
       "<Figure size 720x720 with 1 Axes>"
      ]
     },
     "metadata": {},
     "output_type": "display_data"
    }
   ],
   "source": [
    "%matplotlib inline\n",
    "from sklearn.metrics import auc\n",
    "\n",
    "roc_auc = auc(fpr, tpr)\n",
    "\n",
    "plt.figure(figsize=(10,10))\n",
    "plt.plot(fpr, tpr, color='darkorange', lw=1, label='ROC curve (area = %0.2f)' % roc_auc)\n",
    "#plt.plot(tpr, fpr, color='darkblue', lw=1, label='ROC curve (area = %0.2f)' % roc_auc)\n",
    "plt.plot([0, 1], [0, 1], color='navy', linestyle='--')\n",
    "plt.xlim([0.0, 1.0])\n",
    "plt.ylim([0.0, 1.0])\n",
    "plt.xlabel('False Positive Rate')\n",
    "plt.ylabel('True Positive Rate')\n",
    "plt.title('Receiver Operating Oharacteristic')\n",
    "plt.legend(loc=\"lower right\")\n",
    "plt.show()"
   ]
  },
  {
   "cell_type": "code",
   "execution_count": 21,
   "metadata": {},
   "outputs": [],
   "source": [
    "from scipy import stats\n",
    "\n",
    "def get_metrics(y, pred, probas):\n",
    "    accuracy = accuracy_score(y.values, pred)\n",
    "    recall = recall_score(y.values, pred)\n",
    "    precision = precision_score(y.values, pred)\n",
    "    f1 = f1_score(y.values, pred)\n",
    "    aupr = average_precision_score(y.values, pred)\n",
    "    fpr, tpr, thresholds = roc_curve(y.values, probas, pos_label=1)\n",
    "    #ks = stats.ks_2samp(y.iloc[:,0].values, probas)\n",
    "    return (accuracy, recall, precision, f1, aupr, fpr, tpr, thresholds)"
   ]
  },
  {
   "cell_type": "code",
   "execution_count": 22,
   "metadata": {},
   "outputs": [
    {
     "name": "stdout",
     "output_type": "stream",
     "text": [
      "Accuracy score: 0.6381\n",
      "Recall score: 0.6081\n",
      "Precision score: 0.6469\n",
      "f1 score: 0.6269\n",
      "aupr: 0.5893\n",
      "roc: 0.6905\n"
     ]
    }
   ],
   "source": [
    "accuracy, recall, precision, f1, aupr, fpr, tpr, thresholds = get_metrics(y_test, y_pred_class, y_pred_mlp)\n",
    "print(\"Accuracy score: {:.4}\".format(accuracy))\n",
    "print(\"Recall score: {:.4}\".format(recall))\n",
    "print(\"Precision score: {:.4}\".format(precision))\n",
    "print(\"f1 score: {:.4}\".format(f1))\n",
    "print(\"aupr: {:.4}\".format(aupr))\n",
    "print(\"roc: {:.4}\".format(roc_auc))"
   ]
  },
  {
   "cell_type": "code",
   "execution_count": 23,
   "metadata": {},
   "outputs": [
    {
     "name": "stdout",
     "output_type": "stream",
     "text": [
      "33525 33524\n"
     ]
    },
    {
     "data": {
      "text/plain": [
       "Ks_2sampResult(statistic=0.16831683168316836, pvalue=0.1024361601437302)"
      ]
     },
     "execution_count": 23,
     "metadata": {},
     "output_type": "execute_result"
    }
   ],
   "source": [
    "import math\n",
    "from scipy import stats\n",
    "\n",
    "position = 0\n",
    "class_0 = 0\n",
    "class_1 = 0\n",
    "counting_class_0 = [0] * 101\n",
    "counting_class_1 = [0] * 101\n",
    "grouped_counting_class_0 = [0] * 101\n",
    "grouped_counting_class_1 = [0] * 101\n",
    "percentage_counting_class_0 = [0.0] * 101\n",
    "percentage_counting_class_1 = [0.0] * 101\n",
    "\n",
    "for x in y_test['y']:\n",
    "    score = math.floor(y_pred_mlp[position]*100)\n",
    "    if x == 0:\n",
    "        class_0 = class_0 + 1\n",
    "        counting_class_0[score] = counting_class_0[score] + 1\n",
    "    else:\n",
    "        class_1 = class_1 + 1\n",
    "        counting_class_1[score]= counting_class_1[score] + 1\n",
    "    position = position + 1\n",
    "\n",
    "print(class_0, class_1)\n",
    "\n",
    "last_value_class_0 = 0\n",
    "last_value_class_1 = 0\n",
    "\n",
    "for x in range(0, 101):\n",
    "    last_value_class_0 += counting_class_0[x]\n",
    "    grouped_counting_class_0[x] = last_value_class_0\n",
    "    percentage_counting_class_0[x] = last_value_class_0/class_0\n",
    "    \n",
    "    last_value_class_1 += counting_class_1[x]\n",
    "    grouped_counting_class_1[x] = last_value_class_1\n",
    "    percentage_counting_class_1[x] = last_value_class_1/class_1\n",
    "\n",
    "stats.ks_2samp(percentage_counting_class_0, percentage_counting_class_1)\n",
    "#stats.ks_2samp(grouped_counting_class_0, grouped_counting_class_1)"
   ]
  },
  {
   "cell_type": "code",
   "execution_count": 24,
   "metadata": {},
   "outputs": [
    {
     "name": "stderr",
     "output_type": "stream",
     "text": [
      "No handles with labels found to put in legend.\n"
     ]
    },
    {
     "data": {
      "image/png": "[encoded data removed]",
      "text/plain": [
       "<Figure size 720x720 with 1 Axes>"
      ]
     },
     "metadata": {},
     "output_type": "display_data"
    }
   ],
   "source": [
    "%matplotlib inline\n",
    "\n",
    "predict_sort = np.sort(list(map(lambda x: x[0], y_pred_mlp)))\n",
    "#predict_sort = pd.DataFrame(predict_sort).values\n",
    "count_norm = list(map(lambda x: x/max(counting_class_0), counting_class_0))\n",
    "\n",
    "plt.figure(figsize=(10,10))\n",
    "plt.plot(percentage_counting_class_0, count_norm, color='brown', lw=1)\n",
    "#plt.plot([0, 1], [0, 1], color='navy', linestyle='--', lw=1)\n",
    "#plt.xlim([0.0, 1.0])\n",
    "#plt.ylim([0.0, 1.0])\n",
    "plt.xlabel('Best')\n",
    "plt.ylabel('Cumulative % of population')\n",
    "plt.title('nananana')\n",
    "plt.legend(loc=\"lower right\")\n",
    "plt.show()"
   ]
  },
  {
   "cell_type": "code",
   "execution_count": 25,
   "metadata": {},
   "outputs": [],
   "source": [
    "the_test = pd.read_csv(\"data/real_test_set.csv\", sep=',', header=0, low_memory=False)\n",
    "ft_the_test = the_test.drop('id', 1)"
   ]
  },
  {
   "cell_type": "code",
   "execution_count": 32,
   "metadata": {},
   "outputs": [],
   "source": [
    "mlp_pred_test_class = mlp.predict_classes(ft_the_test.values)\n",
    "mlp_pred_test_scores = mlp.predict_proba(ft_the_test)"
   ]
  },
  {
   "cell_type": "code",
   "execution_count": 35,
   "metadata": {},
   "outputs": [],
   "source": [
    "df = pd.DataFrame(data=mlp_pred_test_class)\n",
    "df.to_csv('test_mlp.csv', mode='a', index=True)"
   ]
  },
  {
   "cell_type": "code",
   "execution_count": 34,
   "metadata": {},
   "outputs": [
    {
     "data": {
      "text/plain": [
       "array([[1],\n",
       "       [1],\n",
       "       [0],\n",
       "       ...,\n",
       "       [1],\n",
       "       [0],\n",
       "       [1]], dtype=int32)"
      ]
     },
     "execution_count": 34,
     "metadata": {},
     "output_type": "execute_result"
    }
   ],
   "source": [
    "mlp_pred_test_class"
   ]
  },
  {
   "cell_type": "code",
   "execution_count": null,
   "metadata": {},
   "outputs": [],
   "source": []
  }
 ],
 "metadata": {
  "kernelspec": {
   "display_name": "Python 3",
   "language": "python",
   "name": "python3"
  },
  "language_info": {
   "codemirror_mode": {
    "name": "ipython",
    "version": 3
   },
   "file_extension": ".py",
   "mimetype": "text/x-python",
   "name": "python",
   "nbconvert_exporter": "python",
   "pygments_lexer": "ipython3",
   "version": "3.5.3"
  }
 },
 "nbformat": 4,
 "nbformat_minor": 2
}
